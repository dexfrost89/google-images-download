{
  "nbformat": 4,
  "nbformat_minor": 0,
  "metadata": {
    "colab": {
      "name": "Untitled24.ipynb",
      "provenance": []
    },
    "kernelspec": {
      "name": "python3",
      "display_name": "Python 3"
    },
    "language_info": {
      "name": "python"
    }
  },
  "cells": [
    {
      "cell_type": "code",
      "source": [
        "!pip install selenium\n",
        "!apt-get update # to update ubuntu to correctly run apt install\n",
        "!apt install chromium-chromedriver\n",
        "!cp /usr/lib/chromium-browser/chromedriver /usr/bin\n",
        "import sys\n",
        "sys.path.insert(0,'/usr/lib/chromium-browser/chromedriver')"
      ],
      "metadata": {
        "id": "yNuc0Xpy3cX1"
      },
      "execution_count": null,
      "outputs": []
    },
    {
      "cell_type": "code",
      "execution_count": null,
      "metadata": {
        "id": "1FgmTeqr3D7i"
      },
      "outputs": [],
      "source": [
        "!git clone https://github.com/dexfrost89/google-images-download"
      ]
    },
    {
      "cell_type": "code",
      "source": [
        "!cd google-images-download && python setup.py install"
      ],
      "metadata": {
        "id": "fA4rtH_I3Vxu"
      },
      "execution_count": null,
      "outputs": []
    },
    {
      "cell_type": "code",
      "source": [
        "!googleimagesdownload -si \"https://www.google.com/search?newwindow=1&sa=G&hl=en&tbs=simg:CAESnAIJAvNCoOzhJhYakAILELCMpwgaOgo4CAQSFK0T8ySIIJMo-zbUG6o7yRGRNsIeGhpmzJpz1lph78_1i1ULsKcUU7kt6tag6T7yY7SAFMAQMCxCOrv4IGgoKCAgBEgSTLIbxDAsQne3BCRqwAQorChVzdXBlcm5hdHVyYWwgY3JlYXR1cmXapYj2Aw4KDC9nLzExOTZiMzAxZgoZCgZjb21pY3PapYj2AwsKCS9tLzAxMmgyNAocCgphZ2dyZXNzaW9u2qWI9gMKCggvbS8wZzB2ZwooChVhY3Rpb24tYWR2ZW50dXJlIGdhbWXapYj2AwsKCS9tLzAybnRmagoeCgthY3Rpb24gZ2FtZdqliPYDCwoJL20vMDI1enpjDA&sxsrf=APq-WBta5wEY0h_8veo3hliPYWaQlZBRbQ:1650724348156&q=doom+2016&tbm=isch&ved=2ahUKEwjEhJOzs6r3AhWIz4sKHSOdCxgQjJkEegQIAxAC&biw=1600&bih=789&dpr=1\" --limit 1000 -cd /usr/lib/chromium-browser/chromedriver -of 100 -o /content/"
      ],
      "metadata": {
        "id": "DtPUL6uz35YH"
      },
      "execution_count": null,
      "outputs": []
    }
  ]
}